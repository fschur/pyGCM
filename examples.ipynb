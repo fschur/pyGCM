{
 "cells": [
  {
   "metadata": {},
   "cell_type": "markdown",
   "source": "# Example Usage and Comparison with R Implementation",
   "id": "53ca446fa9764c21"
  },
  {
   "metadata": {},
   "cell_type": "markdown",
   "source": "Import the necessary packages:",
   "id": "bf0834a30dcf5c80"
  },
  {
   "cell_type": "code",
   "id": "initial_id",
   "metadata": {
    "collapsed": true,
    "ExecuteTime": {
     "end_time": "2025-01-07T10:59:45.763768Z",
     "start_time": "2025-01-07T10:59:43.826876Z"
    }
   },
   "source": [
    "import numpy as np\n",
    "from rpy2.robjects.packages import importr\n",
    "from rpy2.robjects import numpy2ri\n",
    "\n",
    "from pyGCM.gcm_test import GCMTest\n",
    "from pyGCM.residual_methods import linear_regression_residuals\n",
    "\n",
    "# Activate rpy2's conversion\n",
    "numpy2ri.activate()\n",
    "\n",
    "# Import the R package containing gcm_test\n",
    "GCM = importr('GeneralisedCovarianceMeasure')\n"
   ],
   "outputs": [],
   "execution_count": 1
  },
  {
   "metadata": {},
   "cell_type": "markdown",
   "source": "The following function compares the Python-based GCM test with the R-based GCM test (kernel ridge).",
   "id": "da2b8efc5ec805d6"
  },
  {
   "metadata": {
    "ExecuteTime": {
     "end_time": "2025-01-07T10:59:45.780742Z",
     "start_time": "2025-01-07T10:59:45.777117Z"
    }
   },
   "cell_type": "code",
   "source": [
    "def compare_gcm(E, X, Y,\n",
    "                get_resid='GP',\n",
    "                categorical_E=False,\n",
    "                categorical_X=False,\n",
    "                categorical_Y=False,\n",
    "                resid_E=None,\n",
    "                resid_Y=None):\n",
    "    \"\"\"\n",
    "    Compare Python-based GCM test with the R-based GCM test (kernel ridge).\n",
    "\n",
    "    Args:\n",
    "        E, X, Y (np.ndarray): Data arrays with shape (n_samples, ...)\n",
    "        get_resid (str): 'GP', 'linear', 'categorical', or callable.\n",
    "        categorical_E, categorical_X, categorical_Y (bool):\n",
    "            Indicate which variables should be treated as categorical in Python GCM.\n",
    "        resid_E, resid_Y (np.ndarray or None):\n",
    "            Optional precomputed residuals for E, Y given X (shape ~ (n,) or (n,1)).\n",
    "\n",
    "    Returns:\n",
    "        (float, float, float): (python_test_stat, python_p_val, r_p_val)\n",
    "    \"\"\"\n",
    "    py_gcm_tester = GCMTest(get_resid=get_resid)\n",
    "    python_test_stat, python_p_val = py_gcm_tester.fit(\n",
    "        E, X, Y,\n",
    "        resid_E=resid_E,\n",
    "        resid_Y=resid_Y,\n",
    "        categorical_E=categorical_E,\n",
    "        categorical_X=categorical_X,\n",
    "        categorical_Y=categorical_Y\n",
    "    )\n",
    "\n",
    "    # Handle R's gcm_test\n",
    "    r_resid_XonZ = None\n",
    "    r_resid_YonZ = None\n",
    "    if resid_Y is not None and resid_E is not None:\n",
    "        r_resid_XonZ = resid_Y.reshape(-1, 1)\n",
    "        r_resid_YonZ = resid_E.reshape(-1, 1)\n",
    "        r_gcm_result = GCM.gcm_test(\n",
    "            X=Y,\n",
    "            Y=E,\n",
    "            Z=X,\n",
    "            regr_method=\"kernel.ridge\",\n",
    "            resid_XonZ=r_resid_XonZ,\n",
    "            resid_YonZ=r_resid_YonZ\n",
    "        )\n",
    "    else:\n",
    "        r_gcm_result = GCM.gcm_test(\n",
    "            X=Y,\n",
    "            Y=E,\n",
    "            Z=X,\n",
    "            regr_method=\"kernel.ridge\"\n",
    "        )\n",
    "\n",
    "    r_p_val = r_gcm_result.rx2('p.value')[0]\n",
    "\n",
    "    print(\"Python GCM Test (possibly with precomputed residuals):\")\n",
    "    print(f\"   Test Statistic = {python_test_stat:.6f}\")\n",
    "    print(f\"   p-value        = {python_p_val:.6g}\")\n",
    "\n",
    "    print(\"R GCM Test (kernel.ridge):\")\n",
    "    print(f\"   p-value        = {r_p_val:.6g}\")\n",
    "    print(\"-\" * 50)\n",
    "\n",
    "    return python_test_stat, python_p_val, r_p_val\n"
   ],
   "id": "2a76f76e4c4ac3ec",
   "outputs": [],
   "execution_count": 2
  },
  {
   "metadata": {},
   "cell_type": "markdown",
   "source": [
    "## Test 1: All continuous variables\n",
    "\n",
    "For all tests it holds that E is independent of Y given X. We should therefore expect a p-value close to 1.\n",
    "For the first test we see that pyGCm compares well with the R implementation."
   ],
   "id": "a82ad905b58f89f1"
  },
  {
   "metadata": {
    "ExecuteTime": {
     "end_time": "2025-01-07T10:59:46.864248Z",
     "start_time": "2025-01-07T10:59:45.783290Z"
    }
   },
   "cell_type": "code",
   "source": [
    "np.random.seed(42)\n",
    "n = 100\n",
    "\n",
    "X_continuous = np.random.randn(n, 2)\n",
    "E_continuous = 0.5 * X_continuous[:, [0]] + 0.1 * np.random.randn(n, 1)\n",
    "Y_continuous = 0.8 * X_continuous[:, [1]] + 0.1 * np.random.randn(n, 1)\n",
    "\n",
    "print(\"=== TEST 1: All Continuous ===\")\n",
    "compare_gcm(E_continuous, X_continuous, Y_continuous,\n",
    "            get_resid='GP',\n",
    "            categorical_E=False,\n",
    "            categorical_X=False,\n",
    "            categorical_Y=False)\n"
   ],
   "id": "e34bd8827854b24",
   "outputs": [
    {
     "name": "stdout",
     "output_type": "stream",
     "text": [
      "=== TEST 1: All Continuous ===\n",
      "Python GCM Test (possibly with precomputed residuals):\n",
      "   Test Statistic = 0.097400\n",
      "   p-value        = 0.922409\n",
      "R GCM Test (kernel.ridge):\n",
      "   p-value        = 0.437556\n",
      "--------------------------------------------------\n"
     ]
    },
    {
     "data": {
      "text/plain": [
       "(0.09739953801417615, 0.9224091115969792, 0.4375555904040856)"
      ]
     },
     "execution_count": 3,
     "metadata": {},
     "output_type": "execute_result"
    }
   ],
   "execution_count": 3
  },
  {
   "metadata": {},
   "cell_type": "markdown",
   "source": "## Test 2: E is Categorical",
   "id": "56696f5a1efb4c28"
  },
  {
   "metadata": {
    "ExecuteTime": {
     "end_time": "2025-01-07T10:59:49.056765Z",
     "start_time": "2025-01-07T10:59:46.905961Z"
    }
   },
   "cell_type": "code",
   "source": [
    "X_continuous = np.random.randn(n, 2)\n",
    "E_categorical = np.random.choice([0, 1, 2], size=(n, 1), p=[0.3, 0.5, 0.2])\n",
    "Y_continuous = 0.8 * X_continuous[:, [1]] + 0.1 * np.random.randn(n, 1)\n",
    "\n",
    "print(\"=== TEST 2: E is Categorical ===\")\n",
    "compare_gcm(E_categorical, X_continuous, Y_continuous,\n",
    "            get_resid='GP',\n",
    "            categorical_E=True,\n",
    "            categorical_X=False,\n",
    "            categorical_Y=False)"
   ],
   "id": "6e9e3ce2e16bae0a",
   "outputs": [
    {
     "name": "stdout",
     "output_type": "stream",
     "text": [
      "=== TEST 2: E is Categorical ===\n",
      "Python GCM Test (possibly with precomputed residuals):\n",
      "   Test Statistic = 0.815857\n",
      "   p-value        = 0.414582\n",
      "R GCM Test (kernel.ridge):\n",
      "   p-value        = 0.0426315\n",
      "--------------------------------------------------\n"
     ]
    },
    {
     "data": {
      "text/plain": [
       "(0.8158570161554344, 0.41458191881370343, 0.042631474121915036)"
      ]
     },
     "execution_count": 4,
     "metadata": {},
     "output_type": "execute_result"
    }
   ],
   "execution_count": 4
  },
  {
   "metadata": {},
   "cell_type": "markdown",
   "source": "## Test 3: X is Categorical",
   "id": "314014d61197c06d"
  },
  {
   "metadata": {
    "ExecuteTime": {
     "end_time": "2025-01-07T10:59:49.480445Z",
     "start_time": "2025-01-07T10:59:49.062803Z"
    }
   },
   "cell_type": "code",
   "source": [
    "E_continuous = 0.5 * np.random.randn(n, 1)\n",
    "X_categorical = np.random.choice([0, 1, 2], size=(n, 1))\n",
    "Y_continuous = 0.5 * X_categorical + 0.1 * np.random.randn(n, 1)\n",
    "\n",
    "print(\"=== TEST 3: X is Categorical ===\")\n",
    "compare_gcm(E_continuous, X_categorical, Y_continuous,\n",
    "            get_resid='categorical',\n",
    "            categorical_E=False,\n",
    "            categorical_X=True,\n",
    "            categorical_Y=False)\n"
   ],
   "id": "64e893e12f88b1f7",
   "outputs": [
    {
     "name": "stdout",
     "output_type": "stream",
     "text": [
      "=== TEST 3: X is Categorical ===\n",
      "Python GCM Test (possibly with precomputed residuals):\n",
      "   Test Statistic = 0.658762\n",
      "   p-value        = 0.510049\n",
      "R GCM Test (kernel.ridge):\n",
      "   p-value        = 0.515523\n",
      "--------------------------------------------------\n"
     ]
    },
    {
     "data": {
      "text/plain": [
       "(0.6587621002531419, 0.510048548186609, 0.5155232669967633)"
      ]
     },
     "execution_count": 5,
     "metadata": {},
     "output_type": "execute_result"
    }
   ],
   "execution_count": 5
  },
  {
   "metadata": {},
   "cell_type": "markdown",
   "source": [
    "## Test 4: Precomputed Residuals\n",
    "\n",
    "For the fourth test we precompute the residuals using Python's linear regression and pass them to the GCM test. Here we expect the p-value to be the same between the R and Python implementations."
   ],
   "id": "85fd2d3a3c2f75aa"
  },
  {
   "metadata": {
    "ExecuteTime": {
     "end_time": "2025-01-07T11:02:04.814902Z",
     "start_time": "2025-01-07T11:02:04.790654Z"
    }
   },
   "cell_type": "code",
   "source": [
    "# Generate synthetic data\n",
    "X_cont = np.random.randn(n, 2)\n",
    "E_cont = 0.5 * X_cont[:, [0]] + 0.1 * np.random.randn(n, 1)\n",
    "Y_cont = 0.8 * X_cont[:, [1]] + 0.1 * np.random.randn(n, 1)\n",
    "\n",
    "# Precompute residuals using Python's linear regression\n",
    "resid_E_lin = linear_regression_residuals(E_cont, X_cont)\n",
    "resid_Y_lin = linear_regression_residuals(Y_cont, X_cont)\n",
    "\n",
    "print(\"=== TEST 4: Precomputed Residuals ===\")\n",
    "compare_gcm(\n",
    "    E_cont, X_cont, Y_cont,\n",
    "    get_resid='linear',\n",
    "    categorical_E=False,\n",
    "    categorical_X=False,\n",
    "    categorical_Y=False,\n",
    "    resid_E=resid_E_lin,\n",
    "    resid_Y=resid_Y_lin\n",
    ")"
   ],
   "id": "5954cf3a12e73c71",
   "outputs": [
    {
     "name": "stdout",
     "output_type": "stream",
     "text": [
      "=== TEST 4: Precomputed Residuals ===\n",
      "Python GCM Test (possibly with precomputed residuals):\n",
      "   Test Statistic = 0.910581\n",
      "   p-value        = 0.362516\n",
      "R GCM Test (kernel.ridge):\n",
      "   p-value        = 0.362516\n",
      "--------------------------------------------------\n"
     ]
    },
    {
     "data": {
      "text/plain": [
       "(0.9105813815904004, 0.362515984146232, 0.36251598414623215)"
      ]
     },
     "execution_count": 7,
     "metadata": {},
     "output_type": "execute_result"
    }
   ],
   "execution_count": 7
  },
  {
   "metadata": {},
   "cell_type": "code",
   "outputs": [],
   "execution_count": null,
   "source": "",
   "id": "7da860362732fb88"
  }
 ],
 "metadata": {
  "kernelspec": {
   "display_name": "Python 3",
   "language": "python",
   "name": "python3"
  },
  "language_info": {
   "codemirror_mode": {
    "name": "ipython",
    "version": 2
   },
   "file_extension": ".py",
   "mimetype": "text/x-python",
   "name": "python",
   "nbconvert_exporter": "python",
   "pygments_lexer": "ipython2",
   "version": "2.7.6"
  }
 },
 "nbformat": 4,
 "nbformat_minor": 5
}
